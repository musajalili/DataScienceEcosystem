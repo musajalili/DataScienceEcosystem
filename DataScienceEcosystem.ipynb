{
 "cells": [
  {
   "cell_type": "markdown",
   "id": "ec69bb1b-742e-4ffd-92b2-06155e39b0db",
   "metadata": {},
   "source": [
    "# Data Science Tools and Ecosystem"
   ]
  },
  {
   "cell_type": "markdown",
   "id": "05a16613-652b-4b80-9967-3508335a9ec8",
   "metadata": {},
   "source": [
    "In this notebook, Data Science Tools and Ecosystem are summarized."
   ]
  },
  {
   "cell_type": "markdown",
   "id": "fa5fb261-dad8-4079-8d64-726479cd7344",
   "metadata": {},
   "source": [
    "**Objectives:**\n",
    "\n",
    "- List popular languages for Data Science.\n",
    "- Discuss key libraries used in Data Science.\n",
    "- Explore common development environments for Data Science.\n",
    "- Introduce the concept of version control and its importance in Data Science.\n",
    "- Discuss the role of data visualization in Data Science."
   ]
  },
  {
   "cell_type": "markdown",
   "id": "3b49b991-5984-4295-a8ad-d9f833dbc140",
   "metadata": {},
   "source": [
    "Some of the popular languages that Data Scientists use are:\n",
    "1. Python\n",
    "2. R\n",
    "3. Jullia"
   ]
  },
  {
   "cell_type": "markdown",
   "id": "e873939d-5e84-4ced-9e23-0a6421fe7fd7",
   "metadata": {},
   "source": [
    "Some of the commonly used libraries used by Data Scientists include:\n",
    "1. NumPy\n",
    "2. Pandas\n",
    "3. Matplotlib\n",
    "4. NLTK\n",
    "5. Keras"
   ]
  },
  {
   "cell_type": "markdown",
   "id": "9207b36a-d640-400d-908b-b79faf95b7b7",
   "metadata": {},
   "source": [
    "| Data Science Tools |\n",
    "| ------------------ |\n",
    "| Jupyter Notebook  |\n",
    "| RStudio           |\n",
    "| Spyder            |"
   ]
  },
  {
   "cell_type": "markdown",
   "id": "ddfeaa10-6718-43d9-a008-27e5d6aa9275",
   "metadata": {},
   "source": [
    "### Below are a few examples of evaluating arithmetic expressions in Python"
   ]
  },
  {
   "cell_type": "code",
   "execution_count": 1,
   "id": "3c573149-9ade-47a3-8e5b-1b4401fe4264",
   "metadata": {
    "tags": []
   },
   "outputs": [
    {
     "data": {
      "text/plain": [
       "17"
      ]
     },
     "execution_count": 1,
     "metadata": {},
     "output_type": "execute_result"
    }
   ],
   "source": [
    "#  This a simple arithmetic expression to mutiply then add integers\n",
    "(3*4)+5"
   ]
  },
  {
   "cell_type": "code",
   "execution_count": 4,
   "id": "77cf271f-49c8-43f6-ad79-705d96957838",
   "metadata": {
    "tags": []
   },
   "outputs": [
    {
     "name": "stdout",
     "output_type": "stream",
     "text": [
      "3.3333333333333335\n"
     ]
    }
   ],
   "source": [
    "#This will convert 200 minutes to hours by diving by 60\n",
    "min = 200;\n",
    "hours = min/ 60;\n",
    "print(hours);"
   ]
  },
  {
   "cell_type": "markdown",
   "id": "de5e447a-bd26-4627-9117-4aef352a85c1",
   "metadata": {},
   "source": [
    "## Author \n",
    "Musa "
   ]
  },
  {
   "cell_type": "code",
   "execution_count": null,
   "id": "bde91cc9-30c8-4ad7-8bc6-881ec8787757",
   "metadata": {},
   "outputs": [],
   "source": []
  }
 ],
 "metadata": {
  "kernelspec": {
   "display_name": "Python",
   "language": "python",
   "name": "conda-env-python-py"
  },
  "language_info": {
   "codemirror_mode": {
    "name": "ipython",
    "version": 3
   },
   "file_extension": ".py",
   "mimetype": "text/x-python",
   "name": "python",
   "nbconvert_exporter": "python",
   "pygments_lexer": "ipython3",
   "version": "3.7.12"
  }
 },
 "nbformat": 4,
 "nbformat_minor": 5
}
